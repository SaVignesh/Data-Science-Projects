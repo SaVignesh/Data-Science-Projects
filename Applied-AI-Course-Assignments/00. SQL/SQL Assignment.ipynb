{
 "cells": [
  {
   "cell_type": "markdown",
   "metadata": {
    "id": "hmzI5oZ6E_Hp"
   },
   "source": [
    "# SQL Assignment"
   ]
  },
  {
   "cell_type": "code",
   "execution_count": 1,
   "metadata": {
    "id": "wso5pGwnE_Ht"
   },
   "outputs": [],
   "source": [
    "import pandas as pd\n",
    "import sqlite3\n",
    "\n",
    "from IPython.display import display, HTML"
   ]
  },
  {
   "cell_type": "code",
   "execution_count": 2,
   "metadata": {
    "id": "uMYMAPLm23sp"
   },
   "outputs": [],
   "source": [
    "# Note that this is not the same db we have used in course videos, please download from this link\n",
    "# https://drive.google.com/file/d/1O-1-L1DdNxEK6O6nG2jS31MbrMh-OnXM/view?usp=sharing"
   ]
  },
  {
   "cell_type": "code",
   "execution_count": 3,
   "metadata": {
    "id": "xrUl9ShkE_H0"
   },
   "outputs": [],
   "source": [
    "conn = sqlite3.connect(\"Db-IMDB-Assignment.db\")"
   ]
  },
  {
   "cell_type": "markdown",
   "metadata": {
    "id": "Z_ADQl2BE_H6"
   },
   "source": [
    "#### Overview of all tables"
   ]
  },
  {
   "cell_type": "code",
   "execution_count": 4,
   "metadata": {
    "id": "7ZfheusYE_H7",
    "scrolled": true
   },
   "outputs": [],
   "source": [
    "tables = pd.read_sql_query(\"SELECT NAME AS 'Table_Name' FROM sqlite_master WHERE type='table'\",conn)\n",
    "tables = tables[\"Table_Name\"].values.tolist()"
   ]
  },
  {
   "cell_type": "code",
   "execution_count": 5,
   "metadata": {
    "colab": {
     "base_uri": "https://localhost:8080/",
     "height": 1000
    },
    "executionInfo": {
     "elapsed": 1573,
     "status": "ok",
     "timestamp": 1609076958858,
     "user": {
      "displayName": "Applied AI Course",
      "photoUrl": "https://lh3.googleusercontent.com/a-/AOh14GhuSQ5tWcMSEyUXWi5GYagbq0BttLJf6r6PPxrB=s64",
      "userId": "00484516897554883881"
     },
     "user_tz": -330
    },
    "id": "f3zLh5FGE_H_",
    "outputId": "a443d072-a22f-4d15-bff8-0b8a4ee78d5c",
    "scrolled": true
   },
   "outputs": [
    {
     "name": "stdout",
     "output_type": "stream",
     "text": [
      "Schema of Movie\n"
     ]
    },
    {
     "data": {
      "text/html": [
       "<div>\n",
       "<style scoped>\n",
       "    .dataframe tbody tr th:only-of-type {\n",
       "        vertical-align: middle;\n",
       "    }\n",
       "\n",
       "    .dataframe tbody tr th {\n",
       "        vertical-align: top;\n",
       "    }\n",
       "\n",
       "    .dataframe thead th {\n",
       "        text-align: right;\n",
       "    }\n",
       "</style>\n",
       "<table border=\"1\" class=\"dataframe\">\n",
       "  <thead>\n",
       "    <tr style=\"text-align: right;\">\n",
       "      <th></th>\n",
       "      <th>cid</th>\n",
       "      <th>name</th>\n",
       "      <th>type</th>\n",
       "      <th>notnull</th>\n",
       "      <th>dflt_value</th>\n",
       "      <th>pk</th>\n",
       "    </tr>\n",
       "  </thead>\n",
       "  <tbody>\n",
       "    <tr>\n",
       "      <th>0</th>\n",
       "      <td>0</td>\n",
       "      <td>index</td>\n",
       "      <td>INTEGER</td>\n",
       "      <td>0</td>\n",
       "      <td>None</td>\n",
       "      <td>0</td>\n",
       "    </tr>\n",
       "    <tr>\n",
       "      <th>1</th>\n",
       "      <td>1</td>\n",
       "      <td>MID</td>\n",
       "      <td>TEXT</td>\n",
       "      <td>0</td>\n",
       "      <td>None</td>\n",
       "      <td>0</td>\n",
       "    </tr>\n",
       "    <tr>\n",
       "      <th>2</th>\n",
       "      <td>2</td>\n",
       "      <td>title</td>\n",
       "      <td>TEXT</td>\n",
       "      <td>0</td>\n",
       "      <td>None</td>\n",
       "      <td>0</td>\n",
       "    </tr>\n",
       "    <tr>\n",
       "      <th>3</th>\n",
       "      <td>3</td>\n",
       "      <td>year</td>\n",
       "      <td>TEXT</td>\n",
       "      <td>0</td>\n",
       "      <td>None</td>\n",
       "      <td>0</td>\n",
       "    </tr>\n",
       "    <tr>\n",
       "      <th>4</th>\n",
       "      <td>4</td>\n",
       "      <td>rating</td>\n",
       "      <td>REAL</td>\n",
       "      <td>0</td>\n",
       "      <td>None</td>\n",
       "      <td>0</td>\n",
       "    </tr>\n",
       "    <tr>\n",
       "      <th>5</th>\n",
       "      <td>5</td>\n",
       "      <td>num_votes</td>\n",
       "      <td>INTEGER</td>\n",
       "      <td>0</td>\n",
       "      <td>None</td>\n",
       "      <td>0</td>\n",
       "    </tr>\n",
       "  </tbody>\n",
       "</table>\n",
       "</div>"
      ],
      "text/plain": [
       "   cid       name     type  notnull dflt_value  pk\n",
       "0    0      index  INTEGER        0       None   0\n",
       "1    1        MID     TEXT        0       None   0\n",
       "2    2      title     TEXT        0       None   0\n",
       "3    3       year     TEXT        0       None   0\n",
       "4    4     rating     REAL        0       None   0\n",
       "5    5  num_votes  INTEGER        0       None   0"
      ]
     },
     "metadata": {},
     "output_type": "display_data"
    },
    {
     "name": "stdout",
     "output_type": "stream",
     "text": [
      "----------------------------------------------------------------------------------------------------\n",
      "\n",
      "\n",
      "Schema of Genre\n"
     ]
    },
    {
     "data": {
      "text/html": [
       "<div>\n",
       "<style scoped>\n",
       "    .dataframe tbody tr th:only-of-type {\n",
       "        vertical-align: middle;\n",
       "    }\n",
       "\n",
       "    .dataframe tbody tr th {\n",
       "        vertical-align: top;\n",
       "    }\n",
       "\n",
       "    .dataframe thead th {\n",
       "        text-align: right;\n",
       "    }\n",
       "</style>\n",
       "<table border=\"1\" class=\"dataframe\">\n",
       "  <thead>\n",
       "    <tr style=\"text-align: right;\">\n",
       "      <th></th>\n",
       "      <th>cid</th>\n",
       "      <th>name</th>\n",
       "      <th>type</th>\n",
       "      <th>notnull</th>\n",
       "      <th>dflt_value</th>\n",
       "      <th>pk</th>\n",
       "    </tr>\n",
       "  </thead>\n",
       "  <tbody>\n",
       "    <tr>\n",
       "      <th>0</th>\n",
       "      <td>0</td>\n",
       "      <td>index</td>\n",
       "      <td>INTEGER</td>\n",
       "      <td>0</td>\n",
       "      <td>None</td>\n",
       "      <td>0</td>\n",
       "    </tr>\n",
       "    <tr>\n",
       "      <th>1</th>\n",
       "      <td>1</td>\n",
       "      <td>Name</td>\n",
       "      <td>TEXT</td>\n",
       "      <td>0</td>\n",
       "      <td>None</td>\n",
       "      <td>0</td>\n",
       "    </tr>\n",
       "    <tr>\n",
       "      <th>2</th>\n",
       "      <td>2</td>\n",
       "      <td>GID</td>\n",
       "      <td>INTEGER</td>\n",
       "      <td>0</td>\n",
       "      <td>None</td>\n",
       "      <td>0</td>\n",
       "    </tr>\n",
       "  </tbody>\n",
       "</table>\n",
       "</div>"
      ],
      "text/plain": [
       "   cid   name     type  notnull dflt_value  pk\n",
       "0    0  index  INTEGER        0       None   0\n",
       "1    1   Name     TEXT        0       None   0\n",
       "2    2    GID  INTEGER        0       None   0"
      ]
     },
     "metadata": {},
     "output_type": "display_data"
    },
    {
     "name": "stdout",
     "output_type": "stream",
     "text": [
      "----------------------------------------------------------------------------------------------------\n",
      "\n",
      "\n",
      "Schema of Language\n"
     ]
    },
    {
     "data": {
      "text/html": [
       "<div>\n",
       "<style scoped>\n",
       "    .dataframe tbody tr th:only-of-type {\n",
       "        vertical-align: middle;\n",
       "    }\n",
       "\n",
       "    .dataframe tbody tr th {\n",
       "        vertical-align: top;\n",
       "    }\n",
       "\n",
       "    .dataframe thead th {\n",
       "        text-align: right;\n",
       "    }\n",
       "</style>\n",
       "<table border=\"1\" class=\"dataframe\">\n",
       "  <thead>\n",
       "    <tr style=\"text-align: right;\">\n",
       "      <th></th>\n",
       "      <th>cid</th>\n",
       "      <th>name</th>\n",
       "      <th>type</th>\n",
       "      <th>notnull</th>\n",
       "      <th>dflt_value</th>\n",
       "      <th>pk</th>\n",
       "    </tr>\n",
       "  </thead>\n",
       "  <tbody>\n",
       "    <tr>\n",
       "      <th>0</th>\n",
       "      <td>0</td>\n",
       "      <td>index</td>\n",
       "      <td>INTEGER</td>\n",
       "      <td>0</td>\n",
       "      <td>None</td>\n",
       "      <td>0</td>\n",
       "    </tr>\n",
       "    <tr>\n",
       "      <th>1</th>\n",
       "      <td>1</td>\n",
       "      <td>Name</td>\n",
       "      <td>TEXT</td>\n",
       "      <td>0</td>\n",
       "      <td>None</td>\n",
       "      <td>0</td>\n",
       "    </tr>\n",
       "    <tr>\n",
       "      <th>2</th>\n",
       "      <td>2</td>\n",
       "      <td>LAID</td>\n",
       "      <td>INTEGER</td>\n",
       "      <td>0</td>\n",
       "      <td>None</td>\n",
       "      <td>0</td>\n",
       "    </tr>\n",
       "  </tbody>\n",
       "</table>\n",
       "</div>"
      ],
      "text/plain": [
       "   cid   name     type  notnull dflt_value  pk\n",
       "0    0  index  INTEGER        0       None   0\n",
       "1    1   Name     TEXT        0       None   0\n",
       "2    2   LAID  INTEGER        0       None   0"
      ]
     },
     "metadata": {},
     "output_type": "display_data"
    },
    {
     "name": "stdout",
     "output_type": "stream",
     "text": [
      "----------------------------------------------------------------------------------------------------\n",
      "\n",
      "\n",
      "Schema of Country\n"
     ]
    },
    {
     "data": {
      "text/html": [
       "<div>\n",
       "<style scoped>\n",
       "    .dataframe tbody tr th:only-of-type {\n",
       "        vertical-align: middle;\n",
       "    }\n",
       "\n",
       "    .dataframe tbody tr th {\n",
       "        vertical-align: top;\n",
       "    }\n",
       "\n",
       "    .dataframe thead th {\n",
       "        text-align: right;\n",
       "    }\n",
       "</style>\n",
       "<table border=\"1\" class=\"dataframe\">\n",
       "  <thead>\n",
       "    <tr style=\"text-align: right;\">\n",
       "      <th></th>\n",
       "      <th>cid</th>\n",
       "      <th>name</th>\n",
       "      <th>type</th>\n",
       "      <th>notnull</th>\n",
       "      <th>dflt_value</th>\n",
       "      <th>pk</th>\n",
       "    </tr>\n",
       "  </thead>\n",
       "  <tbody>\n",
       "    <tr>\n",
       "      <th>0</th>\n",
       "      <td>0</td>\n",
       "      <td>index</td>\n",
       "      <td>INTEGER</td>\n",
       "      <td>0</td>\n",
       "      <td>None</td>\n",
       "      <td>0</td>\n",
       "    </tr>\n",
       "    <tr>\n",
       "      <th>1</th>\n",
       "      <td>1</td>\n",
       "      <td>Name</td>\n",
       "      <td>TEXT</td>\n",
       "      <td>0</td>\n",
       "      <td>None</td>\n",
       "      <td>0</td>\n",
       "    </tr>\n",
       "    <tr>\n",
       "      <th>2</th>\n",
       "      <td>2</td>\n",
       "      <td>CID</td>\n",
       "      <td>INTEGER</td>\n",
       "      <td>0</td>\n",
       "      <td>None</td>\n",
       "      <td>0</td>\n",
       "    </tr>\n",
       "  </tbody>\n",
       "</table>\n",
       "</div>"
      ],
      "text/plain": [
       "   cid   name     type  notnull dflt_value  pk\n",
       "0    0  index  INTEGER        0       None   0\n",
       "1    1   Name     TEXT        0       None   0\n",
       "2    2    CID  INTEGER        0       None   0"
      ]
     },
     "metadata": {},
     "output_type": "display_data"
    },
    {
     "name": "stdout",
     "output_type": "stream",
     "text": [
      "----------------------------------------------------------------------------------------------------\n",
      "\n",
      "\n",
      "Schema of Location\n"
     ]
    },
    {
     "data": {
      "text/html": [
       "<div>\n",
       "<style scoped>\n",
       "    .dataframe tbody tr th:only-of-type {\n",
       "        vertical-align: middle;\n",
       "    }\n",
       "\n",
       "    .dataframe tbody tr th {\n",
       "        vertical-align: top;\n",
       "    }\n",
       "\n",
       "    .dataframe thead th {\n",
       "        text-align: right;\n",
       "    }\n",
       "</style>\n",
       "<table border=\"1\" class=\"dataframe\">\n",
       "  <thead>\n",
       "    <tr style=\"text-align: right;\">\n",
       "      <th></th>\n",
       "      <th>cid</th>\n",
       "      <th>name</th>\n",
       "      <th>type</th>\n",
       "      <th>notnull</th>\n",
       "      <th>dflt_value</th>\n",
       "      <th>pk</th>\n",
       "    </tr>\n",
       "  </thead>\n",
       "  <tbody>\n",
       "    <tr>\n",
       "      <th>0</th>\n",
       "      <td>0</td>\n",
       "      <td>index</td>\n",
       "      <td>INTEGER</td>\n",
       "      <td>0</td>\n",
       "      <td>None</td>\n",
       "      <td>0</td>\n",
       "    </tr>\n",
       "    <tr>\n",
       "      <th>1</th>\n",
       "      <td>1</td>\n",
       "      <td>Name</td>\n",
       "      <td>TEXT</td>\n",
       "      <td>0</td>\n",
       "      <td>None</td>\n",
       "      <td>0</td>\n",
       "    </tr>\n",
       "    <tr>\n",
       "      <th>2</th>\n",
       "      <td>2</td>\n",
       "      <td>LID</td>\n",
       "      <td>INTEGER</td>\n",
       "      <td>0</td>\n",
       "      <td>None</td>\n",
       "      <td>0</td>\n",
       "    </tr>\n",
       "  </tbody>\n",
       "</table>\n",
       "</div>"
      ],
      "text/plain": [
       "   cid   name     type  notnull dflt_value  pk\n",
       "0    0  index  INTEGER        0       None   0\n",
       "1    1   Name     TEXT        0       None   0\n",
       "2    2    LID  INTEGER        0       None   0"
      ]
     },
     "metadata": {},
     "output_type": "display_data"
    },
    {
     "name": "stdout",
     "output_type": "stream",
     "text": [
      "----------------------------------------------------------------------------------------------------\n",
      "\n",
      "\n",
      "Schema of M_Location\n"
     ]
    },
    {
     "data": {
      "text/html": [
       "<div>\n",
       "<style scoped>\n",
       "    .dataframe tbody tr th:only-of-type {\n",
       "        vertical-align: middle;\n",
       "    }\n",
       "\n",
       "    .dataframe tbody tr th {\n",
       "        vertical-align: top;\n",
       "    }\n",
       "\n",
       "    .dataframe thead th {\n",
       "        text-align: right;\n",
       "    }\n",
       "</style>\n",
       "<table border=\"1\" class=\"dataframe\">\n",
       "  <thead>\n",
       "    <tr style=\"text-align: right;\">\n",
       "      <th></th>\n",
       "      <th>cid</th>\n",
       "      <th>name</th>\n",
       "      <th>type</th>\n",
       "      <th>notnull</th>\n",
       "      <th>dflt_value</th>\n",
       "      <th>pk</th>\n",
       "    </tr>\n",
       "  </thead>\n",
       "  <tbody>\n",
       "    <tr>\n",
       "      <th>0</th>\n",
       "      <td>0</td>\n",
       "      <td>index</td>\n",
       "      <td>INTEGER</td>\n",
       "      <td>0</td>\n",
       "      <td>None</td>\n",
       "      <td>0</td>\n",
       "    </tr>\n",
       "    <tr>\n",
       "      <th>1</th>\n",
       "      <td>1</td>\n",
       "      <td>MID</td>\n",
       "      <td>TEXT</td>\n",
       "      <td>0</td>\n",
       "      <td>None</td>\n",
       "      <td>0</td>\n",
       "    </tr>\n",
       "    <tr>\n",
       "      <th>2</th>\n",
       "      <td>2</td>\n",
       "      <td>LID</td>\n",
       "      <td>REAL</td>\n",
       "      <td>0</td>\n",
       "      <td>None</td>\n",
       "      <td>0</td>\n",
       "    </tr>\n",
       "    <tr>\n",
       "      <th>3</th>\n",
       "      <td>3</td>\n",
       "      <td>ID</td>\n",
       "      <td>INTEGER</td>\n",
       "      <td>0</td>\n",
       "      <td>None</td>\n",
       "      <td>0</td>\n",
       "    </tr>\n",
       "  </tbody>\n",
       "</table>\n",
       "</div>"
      ],
      "text/plain": [
       "   cid   name     type  notnull dflt_value  pk\n",
       "0    0  index  INTEGER        0       None   0\n",
       "1    1    MID     TEXT        0       None   0\n",
       "2    2    LID     REAL        0       None   0\n",
       "3    3     ID  INTEGER        0       None   0"
      ]
     },
     "metadata": {},
     "output_type": "display_data"
    },
    {
     "name": "stdout",
     "output_type": "stream",
     "text": [
      "----------------------------------------------------------------------------------------------------\n",
      "\n",
      "\n",
      "Schema of M_Country\n"
     ]
    },
    {
     "data": {
      "text/html": [
       "<div>\n",
       "<style scoped>\n",
       "    .dataframe tbody tr th:only-of-type {\n",
       "        vertical-align: middle;\n",
       "    }\n",
       "\n",
       "    .dataframe tbody tr th {\n",
       "        vertical-align: top;\n",
       "    }\n",
       "\n",
       "    .dataframe thead th {\n",
       "        text-align: right;\n",
       "    }\n",
       "</style>\n",
       "<table border=\"1\" class=\"dataframe\">\n",
       "  <thead>\n",
       "    <tr style=\"text-align: right;\">\n",
       "      <th></th>\n",
       "      <th>cid</th>\n",
       "      <th>name</th>\n",
       "      <th>type</th>\n",
       "      <th>notnull</th>\n",
       "      <th>dflt_value</th>\n",
       "      <th>pk</th>\n",
       "    </tr>\n",
       "  </thead>\n",
       "  <tbody>\n",
       "    <tr>\n",
       "      <th>0</th>\n",
       "      <td>0</td>\n",
       "      <td>index</td>\n",
       "      <td>INTEGER</td>\n",
       "      <td>0</td>\n",
       "      <td>None</td>\n",
       "      <td>0</td>\n",
       "    </tr>\n",
       "    <tr>\n",
       "      <th>1</th>\n",
       "      <td>1</td>\n",
       "      <td>MID</td>\n",
       "      <td>TEXT</td>\n",
       "      <td>0</td>\n",
       "      <td>None</td>\n",
       "      <td>0</td>\n",
       "    </tr>\n",
       "    <tr>\n",
       "      <th>2</th>\n",
       "      <td>2</td>\n",
       "      <td>CID</td>\n",
       "      <td>REAL</td>\n",
       "      <td>0</td>\n",
       "      <td>None</td>\n",
       "      <td>0</td>\n",
       "    </tr>\n",
       "    <tr>\n",
       "      <th>3</th>\n",
       "      <td>3</td>\n",
       "      <td>ID</td>\n",
       "      <td>INTEGER</td>\n",
       "      <td>0</td>\n",
       "      <td>None</td>\n",
       "      <td>0</td>\n",
       "    </tr>\n",
       "  </tbody>\n",
       "</table>\n",
       "</div>"
      ],
      "text/plain": [
       "   cid   name     type  notnull dflt_value  pk\n",
       "0    0  index  INTEGER        0       None   0\n",
       "1    1    MID     TEXT        0       None   0\n",
       "2    2    CID     REAL        0       None   0\n",
       "3    3     ID  INTEGER        0       None   0"
      ]
     },
     "metadata": {},
     "output_type": "display_data"
    },
    {
     "name": "stdout",
     "output_type": "stream",
     "text": [
      "----------------------------------------------------------------------------------------------------\n",
      "\n",
      "\n",
      "Schema of M_Language\n"
     ]
    },
    {
     "data": {
      "text/html": [
       "<div>\n",
       "<style scoped>\n",
       "    .dataframe tbody tr th:only-of-type {\n",
       "        vertical-align: middle;\n",
       "    }\n",
       "\n",
       "    .dataframe tbody tr th {\n",
       "        vertical-align: top;\n",
       "    }\n",
       "\n",
       "    .dataframe thead th {\n",
       "        text-align: right;\n",
       "    }\n",
       "</style>\n",
       "<table border=\"1\" class=\"dataframe\">\n",
       "  <thead>\n",
       "    <tr style=\"text-align: right;\">\n",
       "      <th></th>\n",
       "      <th>cid</th>\n",
       "      <th>name</th>\n",
       "      <th>type</th>\n",
       "      <th>notnull</th>\n",
       "      <th>dflt_value</th>\n",
       "      <th>pk</th>\n",
       "    </tr>\n",
       "  </thead>\n",
       "  <tbody>\n",
       "    <tr>\n",
       "      <th>0</th>\n",
       "      <td>0</td>\n",
       "      <td>index</td>\n",
       "      <td>INTEGER</td>\n",
       "      <td>0</td>\n",
       "      <td>None</td>\n",
       "      <td>0</td>\n",
       "    </tr>\n",
       "    <tr>\n",
       "      <th>1</th>\n",
       "      <td>1</td>\n",
       "      <td>MID</td>\n",
       "      <td>TEXT</td>\n",
       "      <td>0</td>\n",
       "      <td>None</td>\n",
       "      <td>0</td>\n",
       "    </tr>\n",
       "    <tr>\n",
       "      <th>2</th>\n",
       "      <td>2</td>\n",
       "      <td>LAID</td>\n",
       "      <td>INTEGER</td>\n",
       "      <td>0</td>\n",
       "      <td>None</td>\n",
       "      <td>0</td>\n",
       "    </tr>\n",
       "    <tr>\n",
       "      <th>3</th>\n",
       "      <td>3</td>\n",
       "      <td>ID</td>\n",
       "      <td>INTEGER</td>\n",
       "      <td>0</td>\n",
       "      <td>None</td>\n",
       "      <td>0</td>\n",
       "    </tr>\n",
       "  </tbody>\n",
       "</table>\n",
       "</div>"
      ],
      "text/plain": [
       "   cid   name     type  notnull dflt_value  pk\n",
       "0    0  index  INTEGER        0       None   0\n",
       "1    1    MID     TEXT        0       None   0\n",
       "2    2   LAID  INTEGER        0       None   0\n",
       "3    3     ID  INTEGER        0       None   0"
      ]
     },
     "metadata": {},
     "output_type": "display_data"
    },
    {
     "name": "stdout",
     "output_type": "stream",
     "text": [
      "----------------------------------------------------------------------------------------------------\n",
      "\n",
      "\n",
      "Schema of M_Genre\n"
     ]
    },
    {
     "data": {
      "text/html": [
       "<div>\n",
       "<style scoped>\n",
       "    .dataframe tbody tr th:only-of-type {\n",
       "        vertical-align: middle;\n",
       "    }\n",
       "\n",
       "    .dataframe tbody tr th {\n",
       "        vertical-align: top;\n",
       "    }\n",
       "\n",
       "    .dataframe thead th {\n",
       "        text-align: right;\n",
       "    }\n",
       "</style>\n",
       "<table border=\"1\" class=\"dataframe\">\n",
       "  <thead>\n",
       "    <tr style=\"text-align: right;\">\n",
       "      <th></th>\n",
       "      <th>cid</th>\n",
       "      <th>name</th>\n",
       "      <th>type</th>\n",
       "      <th>notnull</th>\n",
       "      <th>dflt_value</th>\n",
       "      <th>pk</th>\n",
       "    </tr>\n",
       "  </thead>\n",
       "  <tbody>\n",
       "    <tr>\n",
       "      <th>0</th>\n",
       "      <td>0</td>\n",
       "      <td>index</td>\n",
       "      <td>INTEGER</td>\n",
       "      <td>0</td>\n",
       "      <td>None</td>\n",
       "      <td>0</td>\n",
       "    </tr>\n",
       "    <tr>\n",
       "      <th>1</th>\n",
       "      <td>1</td>\n",
       "      <td>MID</td>\n",
       "      <td>TEXT</td>\n",
       "      <td>0</td>\n",
       "      <td>None</td>\n",
       "      <td>0</td>\n",
       "    </tr>\n",
       "    <tr>\n",
       "      <th>2</th>\n",
       "      <td>2</td>\n",
       "      <td>GID</td>\n",
       "      <td>INTEGER</td>\n",
       "      <td>0</td>\n",
       "      <td>None</td>\n",
       "      <td>0</td>\n",
       "    </tr>\n",
       "    <tr>\n",
       "      <th>3</th>\n",
       "      <td>3</td>\n",
       "      <td>ID</td>\n",
       "      <td>INTEGER</td>\n",
       "      <td>0</td>\n",
       "      <td>None</td>\n",
       "      <td>0</td>\n",
       "    </tr>\n",
       "  </tbody>\n",
       "</table>\n",
       "</div>"
      ],
      "text/plain": [
       "   cid   name     type  notnull dflt_value  pk\n",
       "0    0  index  INTEGER        0       None   0\n",
       "1    1    MID     TEXT        0       None   0\n",
       "2    2    GID  INTEGER        0       None   0\n",
       "3    3     ID  INTEGER        0       None   0"
      ]
     },
     "metadata": {},
     "output_type": "display_data"
    },
    {
     "name": "stdout",
     "output_type": "stream",
     "text": [
      "----------------------------------------------------------------------------------------------------\n",
      "\n",
      "\n",
      "Schema of Person\n"
     ]
    },
    {
     "data": {
      "text/html": [
       "<div>\n",
       "<style scoped>\n",
       "    .dataframe tbody tr th:only-of-type {\n",
       "        vertical-align: middle;\n",
       "    }\n",
       "\n",
       "    .dataframe tbody tr th {\n",
       "        vertical-align: top;\n",
       "    }\n",
       "\n",
       "    .dataframe thead th {\n",
       "        text-align: right;\n",
       "    }\n",
       "</style>\n",
       "<table border=\"1\" class=\"dataframe\">\n",
       "  <thead>\n",
       "    <tr style=\"text-align: right;\">\n",
       "      <th></th>\n",
       "      <th>cid</th>\n",
       "      <th>name</th>\n",
       "      <th>type</th>\n",
       "      <th>notnull</th>\n",
       "      <th>dflt_value</th>\n",
       "      <th>pk</th>\n",
       "    </tr>\n",
       "  </thead>\n",
       "  <tbody>\n",
       "    <tr>\n",
       "      <th>0</th>\n",
       "      <td>0</td>\n",
       "      <td>index</td>\n",
       "      <td>INTEGER</td>\n",
       "      <td>0</td>\n",
       "      <td>None</td>\n",
       "      <td>0</td>\n",
       "    </tr>\n",
       "    <tr>\n",
       "      <th>1</th>\n",
       "      <td>1</td>\n",
       "      <td>PID</td>\n",
       "      <td>TEXT</td>\n",
       "      <td>0</td>\n",
       "      <td>None</td>\n",
       "      <td>0</td>\n",
       "    </tr>\n",
       "    <tr>\n",
       "      <th>2</th>\n",
       "      <td>2</td>\n",
       "      <td>Name</td>\n",
       "      <td>TEXT</td>\n",
       "      <td>0</td>\n",
       "      <td>None</td>\n",
       "      <td>0</td>\n",
       "    </tr>\n",
       "    <tr>\n",
       "      <th>3</th>\n",
       "      <td>3</td>\n",
       "      <td>Gender</td>\n",
       "      <td>TEXT</td>\n",
       "      <td>0</td>\n",
       "      <td>None</td>\n",
       "      <td>0</td>\n",
       "    </tr>\n",
       "  </tbody>\n",
       "</table>\n",
       "</div>"
      ],
      "text/plain": [
       "   cid    name     type  notnull dflt_value  pk\n",
       "0    0   index  INTEGER        0       None   0\n",
       "1    1     PID     TEXT        0       None   0\n",
       "2    2    Name     TEXT        0       None   0\n",
       "3    3  Gender     TEXT        0       None   0"
      ]
     },
     "metadata": {},
     "output_type": "display_data"
    },
    {
     "name": "stdout",
     "output_type": "stream",
     "text": [
      "----------------------------------------------------------------------------------------------------\n",
      "\n",
      "\n",
      "Schema of M_Producer\n"
     ]
    },
    {
     "data": {
      "text/html": [
       "<div>\n",
       "<style scoped>\n",
       "    .dataframe tbody tr th:only-of-type {\n",
       "        vertical-align: middle;\n",
       "    }\n",
       "\n",
       "    .dataframe tbody tr th {\n",
       "        vertical-align: top;\n",
       "    }\n",
       "\n",
       "    .dataframe thead th {\n",
       "        text-align: right;\n",
       "    }\n",
       "</style>\n",
       "<table border=\"1\" class=\"dataframe\">\n",
       "  <thead>\n",
       "    <tr style=\"text-align: right;\">\n",
       "      <th></th>\n",
       "      <th>cid</th>\n",
       "      <th>name</th>\n",
       "      <th>type</th>\n",
       "      <th>notnull</th>\n",
       "      <th>dflt_value</th>\n",
       "      <th>pk</th>\n",
       "    </tr>\n",
       "  </thead>\n",
       "  <tbody>\n",
       "    <tr>\n",
       "      <th>0</th>\n",
       "      <td>0</td>\n",
       "      <td>index</td>\n",
       "      <td>INTEGER</td>\n",
       "      <td>0</td>\n",
       "      <td>None</td>\n",
       "      <td>0</td>\n",
       "    </tr>\n",
       "    <tr>\n",
       "      <th>1</th>\n",
       "      <td>1</td>\n",
       "      <td>MID</td>\n",
       "      <td>TEXT</td>\n",
       "      <td>0</td>\n",
       "      <td>None</td>\n",
       "      <td>0</td>\n",
       "    </tr>\n",
       "    <tr>\n",
       "      <th>2</th>\n",
       "      <td>2</td>\n",
       "      <td>PID</td>\n",
       "      <td>TEXT</td>\n",
       "      <td>0</td>\n",
       "      <td>None</td>\n",
       "      <td>0</td>\n",
       "    </tr>\n",
       "    <tr>\n",
       "      <th>3</th>\n",
       "      <td>3</td>\n",
       "      <td>ID</td>\n",
       "      <td>INTEGER</td>\n",
       "      <td>0</td>\n",
       "      <td>None</td>\n",
       "      <td>0</td>\n",
       "    </tr>\n",
       "  </tbody>\n",
       "</table>\n",
       "</div>"
      ],
      "text/plain": [
       "   cid   name     type  notnull dflt_value  pk\n",
       "0    0  index  INTEGER        0       None   0\n",
       "1    1    MID     TEXT        0       None   0\n",
       "2    2    PID     TEXT        0       None   0\n",
       "3    3     ID  INTEGER        0       None   0"
      ]
     },
     "metadata": {},
     "output_type": "display_data"
    },
    {
     "name": "stdout",
     "output_type": "stream",
     "text": [
      "----------------------------------------------------------------------------------------------------\n",
      "\n",
      "\n",
      "Schema of M_Director\n"
     ]
    },
    {
     "data": {
      "text/html": [
       "<div>\n",
       "<style scoped>\n",
       "    .dataframe tbody tr th:only-of-type {\n",
       "        vertical-align: middle;\n",
       "    }\n",
       "\n",
       "    .dataframe tbody tr th {\n",
       "        vertical-align: top;\n",
       "    }\n",
       "\n",
       "    .dataframe thead th {\n",
       "        text-align: right;\n",
       "    }\n",
       "</style>\n",
       "<table border=\"1\" class=\"dataframe\">\n",
       "  <thead>\n",
       "    <tr style=\"text-align: right;\">\n",
       "      <th></th>\n",
       "      <th>cid</th>\n",
       "      <th>name</th>\n",
       "      <th>type</th>\n",
       "      <th>notnull</th>\n",
       "      <th>dflt_value</th>\n",
       "      <th>pk</th>\n",
       "    </tr>\n",
       "  </thead>\n",
       "  <tbody>\n",
       "    <tr>\n",
       "      <th>0</th>\n",
       "      <td>0</td>\n",
       "      <td>index</td>\n",
       "      <td>INTEGER</td>\n",
       "      <td>0</td>\n",
       "      <td>None</td>\n",
       "      <td>0</td>\n",
       "    </tr>\n",
       "    <tr>\n",
       "      <th>1</th>\n",
       "      <td>1</td>\n",
       "      <td>MID</td>\n",
       "      <td>TEXT</td>\n",
       "      <td>0</td>\n",
       "      <td>None</td>\n",
       "      <td>0</td>\n",
       "    </tr>\n",
       "    <tr>\n",
       "      <th>2</th>\n",
       "      <td>2</td>\n",
       "      <td>PID</td>\n",
       "      <td>TEXT</td>\n",
       "      <td>0</td>\n",
       "      <td>None</td>\n",
       "      <td>0</td>\n",
       "    </tr>\n",
       "    <tr>\n",
       "      <th>3</th>\n",
       "      <td>3</td>\n",
       "      <td>ID</td>\n",
       "      <td>INTEGER</td>\n",
       "      <td>0</td>\n",
       "      <td>None</td>\n",
       "      <td>0</td>\n",
       "    </tr>\n",
       "  </tbody>\n",
       "</table>\n",
       "</div>"
      ],
      "text/plain": [
       "   cid   name     type  notnull dflt_value  pk\n",
       "0    0  index  INTEGER        0       None   0\n",
       "1    1    MID     TEXT        0       None   0\n",
       "2    2    PID     TEXT        0       None   0\n",
       "3    3     ID  INTEGER        0       None   0"
      ]
     },
     "metadata": {},
     "output_type": "display_data"
    },
    {
     "name": "stdout",
     "output_type": "stream",
     "text": [
      "----------------------------------------------------------------------------------------------------\n",
      "\n",
      "\n",
      "Schema of M_Cast\n"
     ]
    },
    {
     "data": {
      "text/html": [
       "<div>\n",
       "<style scoped>\n",
       "    .dataframe tbody tr th:only-of-type {\n",
       "        vertical-align: middle;\n",
       "    }\n",
       "\n",
       "    .dataframe tbody tr th {\n",
       "        vertical-align: top;\n",
       "    }\n",
       "\n",
       "    .dataframe thead th {\n",
       "        text-align: right;\n",
       "    }\n",
       "</style>\n",
       "<table border=\"1\" class=\"dataframe\">\n",
       "  <thead>\n",
       "    <tr style=\"text-align: right;\">\n",
       "      <th></th>\n",
       "      <th>cid</th>\n",
       "      <th>name</th>\n",
       "      <th>type</th>\n",
       "      <th>notnull</th>\n",
       "      <th>dflt_value</th>\n",
       "      <th>pk</th>\n",
       "    </tr>\n",
       "  </thead>\n",
       "  <tbody>\n",
       "    <tr>\n",
       "      <th>0</th>\n",
       "      <td>0</td>\n",
       "      <td>index</td>\n",
       "      <td>INTEGER</td>\n",
       "      <td>0</td>\n",
       "      <td>None</td>\n",
       "      <td>0</td>\n",
       "    </tr>\n",
       "    <tr>\n",
       "      <th>1</th>\n",
       "      <td>1</td>\n",
       "      <td>MID</td>\n",
       "      <td>TEXT</td>\n",
       "      <td>0</td>\n",
       "      <td>None</td>\n",
       "      <td>0</td>\n",
       "    </tr>\n",
       "    <tr>\n",
       "      <th>2</th>\n",
       "      <td>2</td>\n",
       "      <td>PID</td>\n",
       "      <td>TEXT</td>\n",
       "      <td>0</td>\n",
       "      <td>None</td>\n",
       "      <td>0</td>\n",
       "    </tr>\n",
       "    <tr>\n",
       "      <th>3</th>\n",
       "      <td>3</td>\n",
       "      <td>ID</td>\n",
       "      <td>INTEGER</td>\n",
       "      <td>0</td>\n",
       "      <td>None</td>\n",
       "      <td>0</td>\n",
       "    </tr>\n",
       "  </tbody>\n",
       "</table>\n",
       "</div>"
      ],
      "text/plain": [
       "   cid   name     type  notnull dflt_value  pk\n",
       "0    0  index  INTEGER        0       None   0\n",
       "1    1    MID     TEXT        0       None   0\n",
       "2    2    PID     TEXT        0       None   0\n",
       "3    3     ID  INTEGER        0       None   0"
      ]
     },
     "metadata": {},
     "output_type": "display_data"
    },
    {
     "name": "stdout",
     "output_type": "stream",
     "text": [
      "----------------------------------------------------------------------------------------------------\n",
      "\n",
      "\n"
     ]
    }
   ],
   "source": [
    "for table in tables:\n",
    "    query = \"PRAGMA TABLE_INFO({})\".format(table)\n",
    "    schema = pd.read_sql_query(query,conn)\n",
    "    print(\"Schema of\",table)\n",
    "    display(schema)\n",
    "    print(\"-\"*100)\n",
    "    print(\"\\n\")"
   ]
  },
  {
   "cell_type": "markdown",
   "metadata": {
    "id": "O4Cj0Wdz23tA"
   },
   "source": [
    "## Useful tips:\n",
    "\n",
    "1. the year column in 'Movie' table, will have few chracters other than numbers which you need to be preprocessed, you need to get a substring of last 4 characters, its better if you convert it as int type, ex: CAST(SUBSTR(TRIM(m.year),-4) AS INTEGER)\n",
    "\n",
    "2. For almost all the TEXT columns we have show, please try to remove trailing spaces, you need to use TRIM() function\n",
    "\n",
    "3. When you are doing count(coulmn) it won't consider the \"NULL\" values, you might need to explore other alternatives like Count(*)"
   ]
  },
  {
   "cell_type": "markdown",
   "metadata": {
    "id": "jL9AmM3oE_IZ"
   },
   "source": [
    "## Q1 --- List all the directors who directed a 'Comedy' movie in a leap year. (You need to check that the genre is 'Comedy’ and year is a leap year) Your query should return director name, the movie name, and the year."
   ]
  },
  {
   "cell_type": "markdown",
   "metadata": {
    "id": "1jglmxDuE_Ib"
   },
   "source": [
    "<h4>To determine whether a year is a leap year, follow these steps:</h4>\n",
    "\n",
    "<ul>\n",
    "    <li><b>STEP-1:</b> If the year is evenly divisible by 4, go to step 2. Otherwise, go to step 5.</li>\n",
    "    <li><b>STEP-2:</b> If the year is evenly divisible by 100, go to step 3. Otherwise, go to step 4.</li>\n",
    "    <li><b>STEP-3:</b> If the year is evenly divisible by 400, go to step 4. Otherwise, go to step 5.</li>\n",
    "    <li><b>STEP-4:</b> The year is a leap year (it has 366 days).</li>\n",
    "    <li><b>STEP-5:</b> The year is not a leap year (it has 365 days).</li>\n",
    "</ul>\n",
    "\n",
    "Year 1900 is divisible by 4 and 100 but it is not divisible by 400, so it is not a leap year."
   ]
  },
  {
   "cell_type": "code",
   "execution_count": 6,
   "metadata": {
    "colab": {
     "base_uri": "https://localhost:8080/",
     "height": 606
    },
    "executionInfo": {
     "elapsed": 1695,
     "status": "error",
     "timestamp": 1600088797006,
     "user": {
      "displayName": "Applied AI Course",
      "photoUrl": "https://lh3.googleusercontent.com/a-/AOh14GhuSQ5tWcMSEyUXWi5GYagbq0BttLJf6r6PPxrB=s64",
      "userId": "00484516897554883881"
     },
     "user_tz": -330
    },
    "id": "yBo_pMrH23tD",
    "outputId": "cebe75ec-12f2-499f-854d-d33f2ab3a766"
   },
   "outputs": [
    {
     "name": "stdout",
     "output_type": "stream",
     "text": [
      "                Name                              title  year\n",
      "0       Milap Zaveri                         Mastizaade  2016\n",
      "1       Danny Leiner  Harold & Kumar Go to White Castle  2004\n",
      "2     Anurag Kashyap                 Gangs of Wasseypur  2012\n",
      "3       Frank Coraci        Around the World in 80 Days  2004\n",
      "4      Griffin Dunne             The Accidental Husband  2008\n",
      "5        Anurag Basu                             Barfi!  2012\n",
      "6    Gurinder Chadha                  Bride & Prejudice  2004\n",
      "7         Mike Judge    Beavis and Butt-Head Do America  1996\n",
      "8   Tarun Mansukhani                            Dostana  2008\n",
      "9       Shakun Batra                      Kapoor & Sons  2016\n",
      "Wall time: 80 ms\n"
     ]
    }
   ],
   "source": [
    "%%time\n",
    "def grader_1(q1):\n",
    "    q1_results  = pd.read_sql_query(q1,conn)\n",
    "    print(q1_results.head(10))\n",
    "    assert (q1_results.shape == (232,3))\n",
    "\n",
    "query1 = \"\"\" WITH leap_year_comedy_movie_id AS (\n",
    "                 SELECT TRIM(MID) AS movie_id\n",
    "                 FROM Movie m\n",
    "                 WHERE CAST(SUBSTR(TRIM(m.year),-4) AS INTEGER)%4==0 AND MID IN(\n",
    "                     SELECT TRIM(MID) \n",
    "                     FROM M_Genre\n",
    "                     WHERE GID IN(\n",
    "                         SELECT GID\n",
    "                         FROM Genre\n",
    "                         WHERE TRIM(Name) LIKE '%Comedy%' ))),\n",
    "                         \n",
    "             \n",
    "             movie_name_year_id AS(\n",
    "                SELECT title,year, MID\n",
    "                FROM Movie m\n",
    "                WHERE MID IN(\n",
    "                    SELECT movie_id\n",
    "                    FROM leap_year_comedy_movie_id ))\n",
    "                    \n",
    "             \n",
    "            SELECT name, title, year\n",
    "            FROM Person AS p\n",
    "            INNER JOIN \n",
    "            M_Director AS m_d\n",
    "            ON p.PID = m_d.PID\n",
    "            INNER JOIN \n",
    "            movie_name_year_id AS m_n_y_id\n",
    "            ON m_d.MID = m_n_y_id.MID \"\"\"\n",
    "\n",
    "            \n",
    "    \n",
    "\n",
    "grader_1(query1)"
   ]
  },
  {
   "cell_type": "markdown",
   "metadata": {
    "id": "LHFSrIJlE_Ih"
   },
   "source": [
    "## Q2 --- List the names of all the actors who played in the movie 'Anand' (1971)"
   ]
  },
  {
   "cell_type": "code",
   "execution_count": 7,
   "metadata": {
    "id": "5BSQOVlk23tS",
    "outputId": "c3752139-c22a-46d8-f0eb-0c23ffce7bf3"
   },
   "outputs": [
    {
     "name": "stdout",
     "output_type": "stream",
     "text": [
      "                Name\n",
      "0   Amitabh Bachchan\n",
      "1      Rajesh Khanna\n",
      "2      Sumita Sanyal\n",
      "3         Ramesh Deo\n",
      "4          Seema Deo\n",
      "5     Asit Kumar Sen\n",
      "6         Dev Kishan\n",
      "7       Atam Prakash\n",
      "8      Lalita Kumari\n",
      "9             Savita\n",
      "Wall time: 33 ms\n"
     ]
    }
   ],
   "source": [
    "%%time\n",
    "def grader_2(q2):\n",
    "    q2_results  = pd.read_sql_query(q2,conn)\n",
    "    print(q2_results.head(10))\n",
    "    assert (q2_results.shape == (17,1))\n",
    "\n",
    "\n",
    "query2 = \"\"\"SELECT Name\n",
    "            FROM Person \n",
    "            WHERE TRIM(PID) IN(\n",
    "                SELECT TRIM(PID) \n",
    "                FROM M_Cast\n",
    "                WHERE TRIM(MID) IN(\n",
    "                    SELECT TRIM(MID)\n",
    "                    FROM Movie\n",
    "                    Where TRIM(title) == 'Anand' ))\"\"\"\n",
    "grader_2(query2)"
   ]
  },
  {
   "cell_type": "markdown",
   "metadata": {
    "id": "bJ-mAUMmE_Il"
   },
   "source": [
    "## Q3 --- List all the actors who acted in a film before 1970 and in a film after 1990. (That is: < 1970 and > 1990.)"
   ]
  },
  {
   "cell_type": "code",
   "execution_count": 8,
   "metadata": {
    "colab": {
     "base_uri": "https://localhost:8080/"
    },
    "executionInfo": {
     "elapsed": 1054,
     "status": "ok",
     "timestamp": 1609074911453,
     "user": {
      "displayName": "Applied AI Course",
      "photoUrl": "https://lh3.googleusercontent.com/a-/AOh14GhuSQ5tWcMSEyUXWi5GYagbq0BttLJf6r6PPxrB=s64",
      "userId": "00484516897554883881"
     },
     "user_tz": -330
    },
    "id": "HARXLaJ623tY",
    "outputId": "8f4788df-84e8-42b9-b535-520f546e3348"
   },
   "outputs": [
    {
     "name": "stdout",
     "output_type": "stream",
     "text": [
      "(4942, 1)\n",
      "(62570, 1)\n",
      "True\n",
      "Wall time: 333 ms\n"
     ]
    }
   ],
   "source": [
    "%%time\n",
    "\n",
    "def grader_3a(query_less_1970, query_more_1990):\n",
    "    q3_a = pd.read_sql_query(query_less_1970,conn)\n",
    "    print(q3_a.shape)\n",
    "    q3_b = pd.read_sql_query(query_more_1990,conn)\n",
    "    print(q3_b.shape)\n",
    "    return (q3_a.shape == (4942,1)) and (q3_b.shape == (62570,1))\n",
    "\n",
    "query_less_1970 =\"\"\" \n",
    "Select p.PID from Person p \n",
    "inner join \n",
    "(\n",
    "    select trim(mc.PID) PD, mc.MID from M_cast mc \n",
    "where mc.MID \n",
    "in \n",
    "(\n",
    "    select mv.MID from Movie mv where CAST(SUBSTR(mv.year,-4) AS Integer)<1970\n",
    ")\n",
    ") r1 \n",
    "on r1.PD=p.PID \n",
    "\"\"\"\n",
    "query_more_1990 =\"\"\" \n",
    "Select p.PID from Person p \n",
    "inner join \n",
    "(\n",
    "    select trim(mc.PID) PD, mc.MID from M_cast mc \n",
    "where mc.MID \n",
    "in \n",
    "(\n",
    "    select mv.MID from Movie mv where CAST(SUBSTR(mv.year,-4) AS Integer)>1990\n",
    ")\n",
    ") r1 \n",
    "on r1.PD=p.PID \"\"\"\n",
    "print(grader_3a(query_less_1970, query_more_1990))\n",
    "\n",
    "# using the above two queries, you can find the answer to the given question "
   ]
  },
  {
   "cell_type": "code",
   "execution_count": 9,
   "metadata": {},
   "outputs": [
    {
     "name": "stdout",
     "output_type": "stream",
     "text": [
      "                Name\n",
      "0       Rishi Kapoor\n",
      "1   Amitabh Bachchan\n",
      "2             Asrani\n",
      "3       Zohra Sehgal\n",
      "4    Parikshat Sahni\n",
      "5      Rakesh Sharma\n",
      "6        Sanjay Dutt\n",
      "7          Ric Young\n",
      "8              Yusuf\n",
      "9     Suhasini Mulay\n",
      "Wall time: 160 ms\n"
     ]
    }
   ],
   "source": [
    "%%time\n",
    "def grader_3(q3):\n",
    "    q3_results  = pd.read_sql_query(q3,conn)\n",
    "    print(q3_results.head(10))\n",
    "    assert (q3_results.shape == (300,1))\n",
    "\n",
    "query3 = \"\"\"WITH before_1970 AS (\n",
    "                SELECT PID AS pid_1970\n",
    "                FROM M_Cast\n",
    "                WHERE MID IN(\n",
    "                SELECT MID\n",
    "                FROM Movie\n",
    "                WHERE CAST(SUBSTR(year,-4) AS Integer)<1970)),\n",
    "            after_1990 AS (\n",
    "                SELECT PID AS pid_1990\n",
    "                FROM M_Cast\n",
    "                WHERE MID IN(\n",
    "                SELECT MID\n",
    "                FROM Movie\n",
    "                WHERE CAST(SUBSTR(year,-4) AS Integer)>1990)),\n",
    "            \n",
    "            person_id (pids) AS (SELECT TRIM(pid_1970)\n",
    "            FROM before_1970\n",
    "            INTERSECT\n",
    "            SELECT TRIM(pid_1990)\n",
    "            FROM after_1990 )\n",
    "            \n",
    "            \n",
    "            SELECT Name\n",
    "            FROM Person p\n",
    "            WHERE p.pid IN(\n",
    "            SELECT pids\n",
    "            FROM person_id)\n",
    "            \n",
    "          \"\"\"\n",
    "grader_3(query3)"
   ]
  },
  {
   "cell_type": "markdown",
   "metadata": {
    "id": "wd3tqFxaE_Ir"
   },
   "source": [
    "## Q4 --- List all directors who directed 10 movies or more, in descending order of the number of movies they directed. Return the directors' names and the number of movies each of them directed."
   ]
  },
  {
   "cell_type": "code",
   "execution_count": 10,
   "metadata": {
    "id": "aGgqAYk723th",
    "outputId": "8451f009-5585-43c6-f3bd-ae9aef0ede4a",
    "scrolled": false
   },
   "outputs": [
    {
     "name": "stdout",
     "output_type": "stream",
     "text": [
      "                    Name  movie_count\n",
      "0           David Dhawan           39\n",
      "1           Mahesh Bhatt           35\n",
      "2        Ram Gopal Varma           30\n",
      "3           Priyadarshan           30\n",
      "4           Vikram Bhatt           29\n",
      "5   Hrishikesh Mukherjee           27\n",
      "6            Yash Chopra           21\n",
      "7         Shakti Samanta           19\n",
      "8        Basu Chatterjee           19\n",
      "9           Subhash Ghai           18\n",
      "True\n",
      "Wall time: 35 ms\n"
     ]
    }
   ],
   "source": [
    "%%time\n",
    "\n",
    "def grader_4a(query_4a):\n",
    "    query_4a = pd.read_sql_query(query_4a,conn)\n",
    "    print(query_4a.head(10)) \n",
    "    return (query_4a.shape == (1462,2))\n",
    "\n",
    "#*** Write a query, which will return all the directors(id's) along with the number of movies they directed ***\n",
    "\n",
    "query_4a =\"\"\"SELECT name, COUNT(name) AS movie_count\n",
    "             FROM Person AS p\n",
    "             INNER JOIN\n",
    "             M_Director AS m_d\n",
    "             ON p.pid = m_d.pid\n",
    "             GROUP BY m_d.pid\n",
    "             ORDER BY movie_count DESC\"\"\"\n",
    "\n",
    "\n",
    "\n",
    "\n",
    "print(grader_4a(query_4a))\n",
    "\n",
    "# using the above query, you can write the answer to the given question"
   ]
  },
  {
   "cell_type": "code",
   "execution_count": 11,
   "metadata": {
    "id": "xROoSzcF23tn",
    "outputId": "76366cff-58f5-4d83-d58b-017c0f7afc58"
   },
   "outputs": [
    {
     "name": "stdout",
     "output_type": "stream",
     "text": [
      "                    Name  movie_count\n",
      "0           David Dhawan           39\n",
      "1           Mahesh Bhatt           35\n",
      "2        Ram Gopal Varma           30\n",
      "3           Priyadarshan           30\n",
      "4           Vikram Bhatt           29\n",
      "5   Hrishikesh Mukherjee           27\n",
      "6            Yash Chopra           21\n",
      "7         Shakti Samanta           19\n",
      "8        Basu Chatterjee           19\n",
      "9           Subhash Ghai           18\n",
      "Wall time: 33 ms\n"
     ]
    }
   ],
   "source": [
    "%%time\n",
    "def grader_4(q4):\n",
    "    q4_results  = pd.read_sql_query(q4,conn)\n",
    "    print(q4_results.head(10))\n",
    "    assert (q4_results.shape == (58,2))\n",
    "\n",
    "query4 = \"\"\" SELECT name, COUNT(name) AS movie_count\n",
    "             FROM Person AS p\n",
    "             INNER JOIN\n",
    "             M_Director AS m_d\n",
    "             ON p.pid = m_d.pid\n",
    "             GROUP BY m_d.pid\n",
    "             HAVING movie_count >= 10\n",
    "             ORDER BY movie_count DESC\"\"\"\n",
    "grader_4(query4)"
   ]
  },
  {
   "cell_type": "markdown",
   "metadata": {
    "id": "OnulNpiOE_Iw"
   },
   "source": [
    "## Q5.a --- For each year, count the number of movies in that year that had only female actors."
   ]
  },
  {
   "cell_type": "code",
   "execution_count": 12,
   "metadata": {
    "id": "ES-gGiNG23tr",
    "outputId": "05e73aed-8917-4d9f-b746-619d1c48735b"
   },
   "outputs": [
    {
     "name": "stdout",
     "output_type": "stream",
     "text": [
      "         MID  Gender  COUNT(*)\n",
      "0  tt0021594    None         1\n",
      "1  tt0021594  Female         3\n",
      "2  tt0021594    Male         5\n",
      "3  tt0026274    None         2\n",
      "4  tt0026274  Female        11\n",
      "5  tt0026274    Male         9\n",
      "6  tt0027256    None         2\n",
      "7  tt0027256  Female         5\n",
      "8  tt0027256    Male         8\n",
      "9  tt0028217  Female         3\n",
      "True\n",
      "         MID Gender  COUNT(*)\n",
      "0  tt0021594   Male         5\n",
      "1  tt0026274   Male         9\n",
      "2  tt0027256   Male         8\n",
      "3  tt0028217   Male         7\n",
      "4  tt0031580   Male        27\n",
      "5  tt0033616   Male        46\n",
      "6  tt0036077   Male        11\n",
      "7  tt0038491   Male         7\n",
      "8  tt0039654   Male         6\n",
      "9  tt0040067   Male        10\n",
      "True\n",
      "Wall time: 405 ms\n"
     ]
    }
   ],
   "source": [
    "%%time\n",
    "\n",
    "# note that you don't need TRIM for person table\n",
    "\n",
    "def grader_5aa(query_5aa):\n",
    "    query_5aa = pd.read_sql_query(query_5aa,conn)\n",
    "    print(query_5aa.head(10)) \n",
    "    return (query_5aa.shape == (8846,3))\n",
    "\n",
    "# *** Write your query that will get movie id, and number of people for each geneder *** \n",
    "\n",
    "\n",
    "query_5aa =\"\"\"SELECT m_c.MID, Gender, COUNT(*)\n",
    "              FROM M_Cast AS m_c\n",
    "              INNER JOIN\n",
    "              Person AS p\n",
    "              ON TRIM(m_c.PID) = p.PID\n",
    "              GROUP BY m_c.MID, p.Gender\n",
    "              \"\"\"\n",
    "\n",
    "print(grader_5aa(query_5aa))\n",
    "\n",
    "def grader_5ab(query_5ab):\n",
    "    query_5ab = pd.read_sql_query(query_5ab,conn)\n",
    "    print(query_5ab.head(10)) \n",
    "    return (query_5ab.shape == (3469, 3))\n",
    "\n",
    "# *** Write your query that will have at least one male actor try to use query that you have written above ***\n",
    "\n",
    "query_5ab =\"\"\"SELECT m_c.MID, Gender, COUNT(*)\n",
    "              FROM M_Cast AS m_c\n",
    "              INNER JOIN\n",
    "              Person AS p\n",
    "              ON TRIM(m_c.PID) = p.PID\n",
    "              GROUP BY m_c.MID, p.Gender\n",
    "              HAVING p.Gender == 'Male'\"\"\"\n",
    "\n",
    "print(grader_5ab(query_5ab))\n",
    "\n",
    "\n",
    "# using the above queries, you can write the answer to the given question"
   ]
  },
  {
   "cell_type": "code",
   "execution_count": 13,
   "metadata": {
    "colab": {
     "base_uri": "https://localhost:8080/",
     "height": 153
    },
    "id": "zQOIawPME_Ix",
    "outputId": "48450a58-61f0-4bc6-f71e-ff7df4ab7f80"
   },
   "outputs": [
    {
     "name": "stdout",
     "output_type": "stream",
     "text": [
      "   year  Number_of_movies\n",
      "0  1939                 1\n",
      "1  1999                 1\n",
      "2  2000                 1\n",
      "3  2018                 1\n",
      "Wall time: 192 ms\n"
     ]
    }
   ],
   "source": [
    "%%time\n",
    "def grader_5a(q5a):\n",
    "    q5a_results  = pd.read_sql_query(q5a,conn)\n",
    "    print(q5a_results.head(10))\n",
    "    assert (q5a_results.shape == (4,2))\n",
    "\n",
    "query5a = \"\"\" WITH Male_present_mid AS(\n",
    "              SELECT m_c.MID\n",
    "              FROM M_Cast AS m_c\n",
    "              INNER JOIN\n",
    "              Person AS p\n",
    "              ON TRIM(m_c.PID) = p.PID\n",
    "              WHERE p.Gender == 'Male'),\n",
    "              \n",
    "              Female_only_mid AS(\n",
    "              SELECT MID\n",
    "              FROM Movie m\n",
    "              WHERE MID NOT IN(\n",
    "              SELECT MID\n",
    "              FROM Male_present_mid AS m_p_m))\n",
    "              \n",
    "              SELECT CAST(SUBSTR(TRIM(m.year),-4) AS INTEGER) year, COUNT(m.MID) Number_of_movies\n",
    "              FROM movie AS m \n",
    "              INNER JOIN\n",
    "              Female_only_mid AS f_o_m\n",
    "              ON m.MID = f_o_m.MID\n",
    "              GROUP BY m.year\"\"\"\n",
    "\n",
    "\n",
    "\n",
    "grader_5a(query5a)"
   ]
  },
  {
   "cell_type": "markdown",
   "metadata": {
    "id": "cTiKejUfE_I1"
   },
   "source": [
    "## Q5.b --- Now include a small change: report for each year the percentage of movies in that year with only female actors, and the total number of movies made that year. For example, one answer will be: 1990 31.81 13522 meaning that in 1990 there were 13,522 movies, and 31.81% had only female actors. You do not need to round your answer."
   ]
  },
  {
   "cell_type": "code",
   "execution_count": 14,
   "metadata": {
    "colab": {
     "base_uri": "https://localhost:8080/",
     "height": 153
    },
    "id": "Xv6iXvcZE_I2",
    "outputId": "16958703-8f35-40d8-8489-b7269cde2d70"
   },
   "outputs": [
    {
     "name": "stdout",
     "output_type": "stream",
     "text": [
      "   year  Percentage_female_only_movies  Total_Movies\n",
      "0  1939                       0.500000             2\n",
      "1  1999                       0.015152            66\n",
      "2  2000                       0.015625            64\n",
      "3  2018                       0.009615           104\n",
      "Wall time: 198 ms\n"
     ]
    }
   ],
   "source": [
    "%%time\n",
    "def grader_5b(q5b):\n",
    "    q5b_results  = pd.read_sql_query(q5b,conn)\n",
    "    print(q5b_results.head(10))\n",
    "    assert (q5b_results.shape == (4,3))\n",
    "\n",
    "query5b = \"\"\" WITH movies_each_year AS(\n",
    "              SELECT CAST(SUBSTR(TRIM(m.year),-4) AS INTEGER) year, COUNT(year) Total_Movies\n",
    "              FROM Movie m\n",
    "              GROUP BY CAST(SUBSTR(TRIM(m.year),-4) AS INTEGER)),\n",
    "             \n",
    "              Male_present_mid AS(\n",
    "              SELECT m_c.MID\n",
    "              FROM M_Cast AS m_c\n",
    "              INNER JOIN\n",
    "              Person AS p\n",
    "              ON TRIM(m_c.PID) = p.PID\n",
    "              WHERE p.Gender == 'Male'),\n",
    "              \n",
    "              Female_only_mid AS(\n",
    "              SELECT MID\n",
    "              FROM Movie m\n",
    "              WHERE MID NOT IN(\n",
    "              SELECT MID\n",
    "              FROM Male_present_mid AS m_p_m)),\n",
    "              \n",
    "              Female_only_movie_year AS(SELECT CAST(SUBSTR(TRIM(m.year),-4) AS INTEGER) year, COUNT(m.MID) Number_of_movies\n",
    "              FROM movie AS m \n",
    "              INNER JOIN\n",
    "              Female_only_mid AS f_o_m\n",
    "              ON m.MID = f_o_m.MID\n",
    "              GROUP BY m.year)\n",
    "              \n",
    "              SELECT CAST(SUBSTR(TRIM(f_o_m_y.year),-4) AS INTEGER) year, CAST(f_o_m_y.Number_of_movies AS FLOAT)\n",
    "              /m_e_y.Total_Movies Percentage_female_only_movies, m_e_y.Total_Movies\n",
    "              FROM Female_only_movie_year AS f_o_m_y\n",
    "              INNER JOIN\n",
    "              movies_each_year AS m_e_y\n",
    "              ON f_o_m_y.year = m_e_y.year\n",
    "              GROUP BY f_o_m_y.year\n",
    "              \n",
    "              \"\"\"\n",
    "\n",
    "\n",
    "\n",
    "grader_5b(query5b)"
   ]
  },
  {
   "cell_type": "markdown",
   "metadata": {
    "id": "d5mvJcHDE_I6"
   },
   "source": [
    "## Q6 --- Find the film(s) with the largest cast. Return the movie title and the size of the cast. By \"cast size\" we mean the number of distinct actors that played in that movie: if an actor played multiple roles, or if it simply occurs multiple times in casts, we still count her/him only once."
   ]
  },
  {
   "cell_type": "code",
   "execution_count": 15,
   "metadata": {
    "colab": {
     "base_uri": "https://localhost:8080/",
     "height": 255
    },
    "id": "vpr9gGg6E_I7",
    "outputId": "bceec796-502e-4bb1-ce5e-0f8eb703e2f5"
   },
   "outputs": [
    {
     "name": "stdout",
     "output_type": "stream",
     "text": [
      "                        title  cast_count\n",
      "0               Ocean's Eight         238\n",
      "1                    Apaharan         233\n",
      "2                        Gold         215\n",
      "3             My Name Is Khan         213\n",
      "4  Captain America: Civil War         191\n",
      "5                    Geostorm         170\n",
      "6                     Striker         165\n",
      "7                        2012         154\n",
      "8                      Pixels         144\n",
      "9       Yamla Pagla Deewana 2         140\n",
      "Wall time: 249 ms\n"
     ]
    }
   ],
   "source": [
    "%%time\n",
    "def grader_6(q6):\n",
    "    q6_results  = pd.read_sql_query(q6,conn)\n",
    "    print(q6_results.head(10))\n",
    "    assert (q6_results.shape == (3473, 2))\n",
    "\n",
    "query6 = \"\"\"SELECT m.title, COUNT(DISTINCT(m_c.PID)) cast_count\n",
    "            FROM Movie m\n",
    "            INNER JOIN\n",
    "            M_Cast m_c\n",
    "            ON m_c.MID = m.MID\n",
    "            GROUP BY m_c.MID\n",
    "            ORDER BY cast_count DESC\n",
    "            \"\"\"\n",
    "grader_6(query6)"
   ]
  },
  {
   "cell_type": "markdown",
   "metadata": {
    "id": "E6mOLxNgTby6"
   },
   "source": [
    "### Q7 --- A decade is a sequence of 10 consecutive years. \n",
    "### For example, say in your database you have movie information starting from 1931. \n",
    "### the first decade is 1931, 1932, ..., 1940,\n",
    "### the second decade is 1932, 1933, ..., 1941 and so on. \n",
    "### Find the decade D with the largest number of films and the total number of films in D"
   ]
  },
  {
   "cell_type": "code",
   "execution_count": 16,
   "metadata": {
    "id": "ZfOWt8IW23uE",
    "outputId": "2f06e789-9f45-44ed-d1d7-d628170bb6c5"
   },
   "outputs": [
    {
     "name": "stdout",
     "output_type": "stream",
     "text": [
      "   year  COUNT(MID)\n",
      "0  1931           1\n",
      "1  1936           3\n",
      "2  1939           2\n",
      "3  1941           1\n",
      "4  1943           1\n",
      "5  1946           2\n",
      "6  1947           2\n",
      "7  1948           3\n",
      "8  1949           3\n",
      "9  1950           2\n",
      "Wall time: 5.99 ms\n"
     ]
    }
   ],
   "source": [
    "%%time\n",
    "def grader_7a(q7a):\n",
    "    q7a_results  = pd.read_sql_query(q7a,conn)\n",
    "    print(q7a_results.head(10))\n",
    "    assert (q7a_results.shape == (78, 2))\n",
    "\n",
    "#*** Write a query that computes number of movies in each year *** \n",
    "    \n",
    "query7a = \"\"\"SELECT year , COUNT(MID)\n",
    "             FROM Movie m\n",
    "             GROUP BY CAST(SUBSTR(TRIM(m.year),-4) AS INTEGER)\"\"\"\n",
    "             \n",
    "grader_7a(query7a)\n",
    "\n",
    "# using the above query, you can write the answer to the given question"
   ]
  },
  {
   "cell_type": "code",
   "execution_count": 17,
   "metadata": {
    "id": "sBMzLrIY23uJ",
    "outputId": "6f40ad73-684a-44f9-a7ce-c0ec253df7e7"
   },
   "outputs": [
    {
     "name": "stdout",
     "output_type": "stream",
     "text": [
      "   year  Total_movies  year  Total_movies\n",
      "0  1931             1  1931             1\n",
      "1  1931             1  1936             3\n",
      "2  1931             1  1939             2\n",
      "3  1936             3  1936             3\n",
      "4  1936             3  1939             2\n",
      "5  1936             3  1941             1\n",
      "6  1936             3  1943             1\n",
      "7  1939             2  1939             2\n",
      "8  1939             2  1941             1\n",
      "9  1939             2  1943             1\n",
      "Wall time: 9.01 ms\n"
     ]
    }
   ],
   "source": [
    "%%time\n",
    "def grader_7b(q7b):\n",
    "    q7b_results  = pd.read_sql_query(q7b,conn)\n",
    "    print(q7b_results.head(10))\n",
    "    assert (q7b_results.shape == (713, 4))\n",
    "\n",
    "\n",
    "#    Write a query that will do joining of the above table(7a) with itself \n",
    "#    such that you will join with only rows if the second tables year is <= current_year+9 and more than or equal current_year\n",
    "\n",
    "\n",
    "query7b = \"\"\"WITH cast_count_year AS(\n",
    "             SELECT CAST(SUBSTR(TRIM(year),-4) AS INTEGER) year, COUNT(MID) Total_movies\n",
    "             FROM Movie m\n",
    "             GROUP BY CAST(SUBSTR(TRIM(m.year),-4) AS INTEGER))\n",
    "             \n",
    "             SELECT ccy_1.year, ccy_1.Total_movies, ccy_2.year, ccy_2.Total_movies\n",
    "             FROM cast_count_year ccy_1\n",
    "             INNER JOIN\n",
    "             cast_count_year ccy_2\n",
    "             WHERE  ccy_2.year <= ccy_1.year+9 AND ccy_2.year >= ccy_1.year\n",
    "             \n",
    "             \n",
    "    \n",
    "          \"\"\"\n",
    "grader_7b(query7b)\n",
    "# if you see the below results the first movie year is less than 2nd movie year and \n",
    "# 2nd movie year is less or equal to the first movie year+9\n",
    "\n",
    "# using the above query, you can write the answer to the given question"
   ]
  },
  {
   "cell_type": "code",
   "execution_count": 18,
   "metadata": {
    "colab": {
     "base_uri": "https://localhost:8080/",
     "height": 255
    },
    "id": "NKqbguuqE_JA",
    "outputId": "2819ceef-0787-45f9-c38f-9648ccf787f0"
   },
   "outputs": [
    {
     "name": "stdout",
     "output_type": "stream",
     "text": [
      "   Decade_movie_count                                             Decade\n",
      "0                1203  2008,2009,2010,2011,2012,2013,2014,2015,2016,2017\n",
      "Wall time: 8 ms\n"
     ]
    }
   ],
   "source": [
    "%%time\n",
    "def grader_7(q7):\n",
    "    q7_results  = pd.read_sql_query(q7,conn)\n",
    "    print(q7_results.head(10))\n",
    "    assert (q7_results.shape == (1, 2))\n",
    "\n",
    "query7 = \"\"\" WITH cast_count_year AS(\n",
    "             SELECT CAST(SUBSTR(TRIM(year),-4) AS INTEGER) year, COUNT(MID) Total_movies\n",
    "             FROM Movie m\n",
    "             GROUP BY CAST(SUBSTR(TRIM(m.year),-4) AS INTEGER))\n",
    "             \n",
    "             SELECT  SUM(ccy_2.Total_movies) Decade_movie_count, GROUP_CONCAT(ccy_2.year) Decade\n",
    "             FROM cast_count_year ccy_1\n",
    "             INNER JOIN\n",
    "             cast_count_year ccy_2\n",
    "             WHERE  ccy_2.year <= ccy_1.year+9 AND ccy_2.year >= ccy_1.year \n",
    "             GROUP BY ccy_1.year\n",
    "             ORDER BY SUM(ccy_2.Total_movies) DESC LIMIT 1\n",
    "             \"\"\"\n",
    "\n",
    "\n",
    "\n",
    "grader_7(query7)\n",
    "# if you check the output we are printinng all the year in that decade, its fine you can print 2008 or 2008-2017"
   ]
  },
  {
   "cell_type": "markdown",
   "metadata": {
    "id": "Jbm3Oy3hT8d9"
   },
   "source": [
    "## Q8 --- Find all the actors that made more movies with Yash Chopra than any other director."
   ]
  },
  {
   "cell_type": "code",
   "execution_count": 19,
   "metadata": {
    "id": "DZJ7WMrk23uR",
    "outputId": "6f379ab4-bfb0-4a2f-dc6a-ae221cb65a0e"
   },
   "outputs": [
    {
     "name": "stdout",
     "output_type": "stream",
     "text": [
      "     Actor_ID Director_ID  Movies\n",
      "0   nm0000002   nm0496746       1\n",
      "1   nm0000027   nm0000180       1\n",
      "2   nm0000039   nm0896533       1\n",
      "3   nm0000042   nm0896533       1\n",
      "4   nm0000047   nm0004292       1\n",
      "5   nm0000073   nm0485943       1\n",
      "6   nm0000076   nm0000229       1\n",
      "7   nm0000092   nm0178997       1\n",
      "8   nm0000093   nm0000269       1\n",
      "9   nm0000096   nm0113819       1\n",
      "Wall time: 335 ms\n"
     ]
    }
   ],
   "source": [
    "%%time\n",
    "def grader_8a(q8a):\n",
    "    q8a_results  = pd.read_sql_query(q8a,conn)\n",
    "    print(q8a_results.head(10))\n",
    "    assert (q8a_results.shape == (73408, 3))\n",
    "\n",
    "\n",
    "    \n",
    "query8a = \"\"\"           \n",
    "              SELECT  m_c.PID Actor_ID, m_d.PID Director_ID, COUNT(m_c.MID) Movies\n",
    "              FROM M_Cast m_c\n",
    "              INNER JOIN\n",
    "              M_Director m_d\n",
    "              ON m_c.MID = m_d.MID\n",
    "              GROUP BY m_c.PID,m_d.PID\n",
    "              \"\"\"\n",
    "grader_8a(query8a)\n",
    "\n",
    "# using the above query, you can write the answer to the given question"
   ]
  },
  {
   "cell_type": "code",
   "execution_count": 20,
   "metadata": {
    "colab": {
     "base_uri": "https://localhost:8080/",
     "height": 255
    },
    "id": "SYMTcHixE_JH",
    "outputId": "8cc98748-cc3b-4cbf-fa99-3af323f0d094"
   },
   "outputs": [
    {
     "name": "stdout",
     "output_type": "stream",
     "text": [
      "                Name  Movies\n",
      "0        Jagdish Raj      11\n",
      "1   Manmohan Krishna      10\n",
      "2           Iftekhar       9\n",
      "3      Shashi Kapoor       7\n",
      "4      Rakhee Gulzar       5\n",
      "5     Waheeda Rehman       5\n",
      "6           Ravikant       4\n",
      "7     Achala Sachdev       4\n",
      "8        Neetu Singh       4\n",
      "9      Leela Chitnis       3\n",
      "(245, 2)\n",
      "Wall time: 658 ms\n"
     ]
    }
   ],
   "source": [
    "%%time\n",
    "\n",
    "def grader_8(q8):\n",
    "    q8_results  = pd.read_sql_query(q8,conn)\n",
    "    print(q8_results.head(10))\n",
    "    print(q8_results.shape)\n",
    "    assert (q8_results.shape == (245, 2))\n",
    "\n",
    "query8 = \"\"\"WITH actor_director_id_movie_count AS(\n",
    "              SELECT  m_c.PID Actor_ID, m_d.PID Director_ID, COUNT(m_c.MID) Movies\n",
    "              FROM M_Cast m_c\n",
    "              INNER JOIN\n",
    "              M_Director m_d\n",
    "              ON m_c.MID = m_d.MID\n",
    "              GROUP BY m_c.PID,m_d.PID),\n",
    "            \n",
    "              yash_chopra_actor_movies AS(\n",
    "              SELECT Actor_ID, Movies, Director_ID\n",
    "              FROM actor_director_id_movie_count adimc\n",
    "              INNER JOIN\n",
    "              Person p\n",
    "              ON p.PID = adimc.Director_ID \n",
    "              WHERE TRIM(p.name) = 'Yash Chopra'),\n",
    "              \n",
    "              not_yash_chopra_actor_movies AS(\n",
    "              SELECT adimc.Actor_ID, adimc.Director_ID, adimc.Movies\n",
    "              FROM actor_director_id_movie_count adimc\n",
    "              INNER JOIN\n",
    "              yash_chopra_actor_movies ycam\n",
    "              ON adimc.Actor_ID = ycam.Actor_ID),\n",
    "              \n",
    "              max_movies_not_yash_chopra AS(\n",
    "              SELECT Actor_ID, MAX(Movies) max_movies\n",
    "              FROM not_yash_chopra_actor_movies nycam\n",
    "              GROUP BY  nycam.Actor_ID),\n",
    "              \n",
    "              actor_id_movies AS(\n",
    "              SELECT TRIM(ycam.Actor_ID) Actor_ID, ycam.Movies\n",
    "              FROM yash_chopra_actor_movies ycam\n",
    "              INNER JOIN\n",
    "              max_movies_not_yash_chopra mmoyc\n",
    "              ON ycam.Actor_ID = mmoyc.Actor_ID\n",
    "              WHERE ycam.Movies = mmoyc.max_movies\n",
    "              ORDER BY ycam.Movies DESC)\n",
    "              \n",
    "              SELECT p.name, aim.Movies\n",
    "              FROM Person p\n",
    "              INNER JOIN\n",
    "              actor_id_movies aim\n",
    "              ON p.PID = aim.Actor_ID\n",
    "              ORDER BY Movies DESC\n",
    "              \n",
    "              \"\"\"\n",
    "\n",
    "grader_8(query8)"
   ]
  },
  {
   "cell_type": "markdown",
   "metadata": {
    "id": "2j8Fc9jUUJ9C"
   },
   "source": [
    "## Q9 --- The Shahrukh number of an actor is the length of the shortest path between the actor and Shahrukh Khan in the \"co-acting\" graph. That is, Shahrukh Khan has Shahrukh number 0; all actors who acted in the same film as Shahrukh have Shahrukh number 1; all actors who acted in the same film as some actor with Shahrukh number 1 have Shahrukh number 2, etc. Return all actors whose Shahrukh number is 2."
   ]
  },
  {
   "cell_type": "code",
   "execution_count": 21,
   "metadata": {
    "id": "3FnJ_19z23ub",
    "outputId": "c63ac439-ad2b-4aa4-8aeb-dc0245670f34"
   },
   "outputs": [
    {
     "name": "stdout",
     "output_type": "stream",
     "text": [
      "          PID\n",
      "0   nm0004418\n",
      "1   nm1995953\n",
      "2   nm2778261\n",
      "3   nm0631373\n",
      "4   nm0241935\n",
      "5   nm0792116\n",
      "6   nm1300111\n",
      "7   nm0196375\n",
      "8   nm1464837\n",
      "9   nm2868019\n",
      "(2382, 1)\n",
      "Wall time: 60.7 ms\n"
     ]
    }
   ],
   "source": [
    "%%time\n",
    "def grader_9a(q9a):\n",
    "    q9a_results  = pd.read_sql_query(q9a,conn)\n",
    "    print(q9a_results.head(10))\n",
    "    print(q9a_results.shape)\n",
    "    assert (q9a_results.shape == (2382, 1))\n",
    "\n",
    "query9a = \"\"\"\n",
    "             WITH srk_id AS(\n",
    "             SELECT TRIM(PID) PID , Name\n",
    "             FROM Person p\n",
    "             WHERE TRIM(Name) == 'Shah Rukh Khan'),\n",
    "             \n",
    "             srk_movies AS(\n",
    "             SELECT MID\n",
    "             FROM M_cast m_c\n",
    "             WHERE TRIM(m_c.PID) IN(\n",
    "             SELECT srk_id.PID\n",
    "             FROM srk_id)),\n",
    "             \n",
    "             \n",
    "             s1_with_srk AS (\n",
    "             SELECT DISTINCT PID\n",
    "             FROM M_cast m_c\n",
    "             WHERE TRIM(MID) IN(\n",
    "             SELECT TRIM(MID)\n",
    "             FROM srk_movies))\n",
    "             \n",
    "             \n",
    "             SELECT s1_s.PID\n",
    "             FROM s1_with_srk s1_s\n",
    "             WHERE TRIM(PID) NOT IN(\n",
    "             SELECT PID\n",
    "             FROM srk_id )\n",
    "             \n",
    "             \n",
    "             \n",
    "             \"\"\"\n",
    "\n",
    "\n",
    "grader_9a(query9a)\n",
    "# using the above query, you can write the answer to the given question\n",
    "\n",
    "# selecting actors who acted with srk (S1)\n",
    "# selecting all movies where S1 actors acted, this forms S2 movies list\n",
    "# selecting all actors who acted in S2 movies, this gives us S2 actors along with S1 actors\n",
    "# removing S1 actors from the combined list of S1 & S2 actors, so that we get only S2 actors"
   ]
  },
  {
   "cell_type": "code",
   "execution_count": 22,
   "metadata": {
    "colab": {
     "base_uri": "https://localhost:8080/",
     "height": 255
    },
    "id": "5o6imc82E_JS",
    "outputId": "29de4fa8-ddbb-44ba-ad8f-12d2e48d278f"
   },
   "outputs": [
    {
     "name": "stdout",
     "output_type": "stream",
     "text": [
      "                     Name\n",
      "0            Freida Pinto\n",
      "1             Rohan Chand\n",
      "2            Damian Young\n",
      "3         Waris Ahluwalia\n",
      "4   Caroline Christl Long\n",
      "5           Rajeev Pahuja\n",
      "6       Michelle Santiago\n",
      "7         Alicia Vikander\n",
      "8            Dominic West\n",
      "9          Walton Goggins\n",
      "(25698, 1)\n",
      "Wall time: 355 ms\n"
     ]
    }
   ],
   "source": [
    "%%time\n",
    "def grader_9(q9):\n",
    "    q9_results  = pd.read_sql_query(q9,conn)\n",
    "    print(q9_results.head(10))\n",
    "    print(q9_results.shape)\n",
    "    assert (q9_results.shape == (25698, 1))\n",
    "\n",
    "query9 = \"\"\" WITH srk_id AS(\n",
    "             SELECT TRIM(PID) PID , Name\n",
    "             FROM Person p\n",
    "             WHERE TRIM(Name) == 'Shah Rukh Khan'),\n",
    "             \n",
    "             srk_movies AS(\n",
    "             SELECT MID\n",
    "             FROM M_cast m_c\n",
    "             WHERE TRIM(m_c.PID) IN(\n",
    "             SELECT srk_id.PID\n",
    "             FROM srk_id)),\n",
    "             \n",
    "             s1_with_srk AS (\n",
    "             SELECT DISTINCT PID\n",
    "             FROM M_cast m_c\n",
    "             WHERE TRIM(MID) IN(\n",
    "             SELECT TRIM(MID)\n",
    "             FROM srk_movies)),\n",
    "             \n",
    "             S1 AS (\n",
    "             SELECT s1_s.PID\n",
    "             FROM s1_with_srk s1_s\n",
    "             WHERE TRIM(PID) NOT IN(\n",
    "             SELECT PID\n",
    "             FROM srk_id )),\n",
    "             \n",
    "             s2_movies AS (SELECT DISTINCT MID\n",
    "             FROM M_cast m_c\n",
    "             WHERE PID IN(\n",
    "             SELECT PID\n",
    "             FROM s1)),\n",
    "             \n",
    "             s1_s2_movie_actors AS (\n",
    "             SELECT DISTINCT PID\n",
    "             FROM M_cast m_c\n",
    "             WHERE MID IN(\n",
    "             SELECT MID\n",
    "             FROM s2_movies)),\n",
    "             \n",
    "             S2_ID AS (\n",
    "             SELECT PID\n",
    "             FROM s1_s2_movie_actors s1_s2\n",
    "             WHERE PID NOT IN(\n",
    "             SELECT PID\n",
    "             FROM s1_with_srk))\n",
    "             \n",
    "             SELECT Name\n",
    "             FROM Person p\n",
    "             WHERE PID IN(\n",
    "             SELECT TRIM(PID)\n",
    "             FROM S2_ID)\n",
    "             \"\"\"\n",
    "grader_9(query9)"
   ]
  }
 ],
 "metadata": {
  "colab": {
   "collapsed_sections": [],
   "provenance": [],
   "toc_visible": true
  },
  "kernelspec": {
   "display_name": "Python 3 (ipykernel)",
   "language": "python",
   "name": "python3"
  },
  "language_info": {
   "codemirror_mode": {
    "name": "ipython",
    "version": 3
   },
   "file_extension": ".py",
   "mimetype": "text/x-python",
   "name": "python",
   "nbconvert_exporter": "python",
   "pygments_lexer": "ipython3",
   "version": "3.9.15"
  }
 },
 "nbformat": 4,
 "nbformat_minor": 1
}
